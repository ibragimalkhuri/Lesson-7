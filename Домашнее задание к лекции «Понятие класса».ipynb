{
 "cells": [
  {
   "cell_type": "markdown",
   "metadata": {},
   "source": [
    "# Задание 1"
   ]
  },
  {
   "cell_type": "markdown",
   "metadata": {},
   "source": [
    "#### Напишите функцию, которая возвращает название валюты (поле ‘Name’) с максимальным значением"
   ]
  },
  {
   "cell_type": "code",
   "execution_count": 66,
   "metadata": {},
   "outputs": [],
   "source": [
    "def max_currency_rate():\n",
    "    import requests\n",
    "    full_data = r.get('https://www.cbr-xml-daily.ru/daily_json.js').json()\n",
    "    curr = full_data['Valute']\n",
    "\n",
    "    library = {}\n",
    "\n",
    "    for line in curr.values():\n",
    "        name=line['Name']\n",
    "        val=line['Value']\n",
    "\n",
    "        library[name] = val\n",
    "\n",
    "    for key, value in library.items():\n",
    "        if value == max(library.values()):\n",
    "            max_value = key\n",
    "        else:\n",
    "            pass\n",
    "\n",
    "    \n",
    "    return print(max_value)\n",
    "    "
   ]
  },
  {
   "cell_type": "code",
   "execution_count": 70,
   "metadata": {},
   "outputs": [
    {
     "name": "stdout",
     "output_type": "stream",
     "text": [
      "СДР (специальные права заимствования)\n"
     ]
    }
   ],
   "source": [
    "max_currency_rate()"
   ]
  },
  {
   "cell_type": "code",
   "execution_count": 71,
   "metadata": {},
   "outputs": [],
   "source": [
    "import requests"
   ]
  },
  {
   "cell_type": "markdown",
   "metadata": {},
   "source": [
    "# Задание 2"
   ]
  },
  {
   "cell_type": "markdown",
   "metadata": {},
   "source": [
    "#### Добавьте в класс Rate параметр diff (со значениями True или False), который в случае значения True в....."
   ]
  },
  {
   "cell_type": "code",
   "execution_count": 143,
   "metadata": {},
   "outputs": [],
   "source": [
    "class Rate:\n",
    "    \n",
    "    def __init__(self, format_='value', diff_print = False):\n",
    "        self.format = format_\n",
    "        self.diff = diff_print\n",
    "    \n",
    "    def exchange_rates(self):\n",
    "        \"\"\"\n",
    "        Возвращает ответ сервиса с информацией о валютах в виде:\n",
    "        \n",
    "        {\n",
    "            'AMD': {\n",
    "                'CharCode': 'AMD',\n",
    "                'ID': 'R01060',\n",
    "                'Name': 'Армянских драмов',\n",
    "                'Nominal': 100,\n",
    "                'NumCode': '051',\n",
    "                'Previous': 14.103,\n",
    "                'Value': 14.0879\n",
    "                },\n",
    "            ...\n",
    "        }\n",
    "        \"\"\"\n",
    "        self.r = requests.get('https://www.cbr-xml-daily.ru/daily_json.js')\n",
    "        return self.r.json()['Valute']\n",
    "    \n",
    "    def make_format(self, currency):\n",
    "        \"\"\"\n",
    "        Возвращает информацию о валюте currency в двух вариантах:\n",
    "        - полная информация о валюте при self.format = 'full':\n",
    "        Rate('full').make_format('EUR')\n",
    "        {\n",
    "            'CharCode': 'EUR',\n",
    "            'ID': 'R01239',\n",
    "            'Name': 'Евро',\n",
    "            'Nominal': 1,\n",
    "            'NumCode': '978',\n",
    "            'Previous': 79.6765,\n",
    "            'Value': 79.4966\n",
    "        }\n",
    "        \n",
    "        Rate('value').make_format('EUR')\n",
    "        79.4966\n",
    "        \"\"\"\n",
    "        response = self.exchange_rates()\n",
    "        \n",
    "        if currency in response:\n",
    "            if self.format == 'full':\n",
    "                return response[currency]\n",
    "            \n",
    "            if self.format == 'value':\n",
    "                return response[currency]['Value']\n",
    "        \n",
    "        return 'Error'\n",
    "    \n",
    "    \n",
    "\n",
    "    \n",
    "    \n",
    "    def eur(self, diff_print= False):\n",
    "        \"\"\"\n",
    "        Возвращает курс евро на сегодня в формате self.format при diff_print = False\n",
    "        Возвращает разницу курса евро между значениями на сегодня и предыдущим значением при diff_print = True\n",
    "        \n",
    "        \"\"\"\n",
    "        \n",
    "        if diff_print == False:\n",
    "            diff_print = self.make_format('EUR')\n",
    "        \n",
    "        else:\n",
    "            response = self.exchange_rates()\n",
    "            diff_print = response['EUR']['Value'] - response['EUR']['Previous']\n",
    "        \n",
    "        return diff_print\n",
    "    \n",
    "    def usd(self, diff_print= False):\n",
    "        \"\"\"\n",
    "        Возвращает курс доллара на сегодня в формате self.format при diff_print = False\n",
    "        Возвращает разницу курса доллара между значениями на сегодня и предыдущим значением при diff_print = True\n",
    "        \n",
    "        \"\"\"\n",
    "        \n",
    "        if diff_print == False:\n",
    "            diff_print = self.make_format('USD')\n",
    "        \n",
    "        else:\n",
    "            response = self.exchange_rates()\n",
    "            diff_print = response['USD']['Value'] - response['USD']['Previous']\n",
    "        \n",
    "        return diff_print\n",
    "    \n",
    "    def brl(self, diff_print= False):\n",
    "        \"\"\"\n",
    "        Возвращает курс бразильского реала на сегодня в формате self.format при diff_print = False\n",
    "        Возвращает разницу курса бразильского реала между значениями на сегодня и предыдущим значением при diff_print = True\n",
    "        \n",
    "        \"\"\"\n",
    "        \n",
    "        if diff_print == False:\n",
    "            diff_print = self.make_format('BRL')\n",
    "        \n",
    "        else:\n",
    "            response = self.exchange_rates()\n",
    "            diff_print = response['BRL']['Value'] - response['BRL']['Previous']\n",
    "        \n",
    "        return diff_print"
   ]
  },
  {
   "cell_type": "code",
   "execution_count": 146,
   "metadata": {},
   "outputs": [
    {
     "name": "stdout",
     "output_type": "stream",
     "text": [
      "{'ID': 'R01235', 'NumCode': '840', 'CharCode': 'USD', 'Nominal': 1, 'Name': 'Доллар США', 'Value': 73.8757, 'Previous': 73.8757}\n",
      "{'ID': 'R01239', 'NumCode': '978', 'CharCode': 'EUR', 'Nominal': 1, 'Name': 'Евро', 'Value': 90.7932, 'Previous': 90.6824}\n"
     ]
    }
   ],
   "source": [
    "a = Rate('full').make_format('USD')\n",
    "b = Rate('full').make_format('EUR')\n",
    "print(a)\n",
    "print(b)"
   ]
  },
  {
   "cell_type": "code",
   "execution_count": 147,
   "metadata": {},
   "outputs": [
    {
     "name": "stdout",
     "output_type": "stream",
     "text": [
      "90.7932\n",
      "0.11079999999999757\n",
      "90.7932\n"
     ]
    }
   ],
   "source": [
    "x= Rate()\n",
    "\n",
    "print(x.eur(diff_print=False))\n",
    "print(x.eur(diff_print=True))\n",
    "print(x.eur())\n"
   ]
  },
  {
   "cell_type": "code",
   "execution_count": 145,
   "metadata": {},
   "outputs": [
    {
     "name": "stdout",
     "output_type": "stream",
     "text": [
      "73.8757\n",
      "0.0\n",
      "73.8757\n"
     ]
    }
   ],
   "source": [
    "x= Rate()\n",
    "\n",
    "print(x.usd(diff_print=False))\n",
    "print(x.usd(diff_print=True))\n",
    "print(x.usd())"
   ]
  },
  {
   "cell_type": "code",
   "execution_count": 148,
   "metadata": {},
   "outputs": [
    {
     "name": "stdout",
     "output_type": "stream",
     "text": [
      "14.2233\n",
      "0.04449999999999932\n",
      "14.2233\n"
     ]
    }
   ],
   "source": [
    "x= Rate()\n",
    "\n",
    "print(x.brl(diff_print=False))\n",
    "print(x.brl(diff_print=True))\n",
    "print(x.brl())"
   ]
  },
  {
   "cell_type": "markdown",
   "metadata": {},
   "source": [
    "# Задание 3"
   ]
  },
  {
   "cell_type": "markdown",
   "metadata": {},
   "source": [
    "#### Напишите класс Designer, который учитывает количество международных премий."
   ]
  },
  {
   "cell_type": "code",
   "execution_count": 290,
   "metadata": {},
   "outputs": [],
   "source": [
    "class Designer:\n",
    "    def __init__(self, name, score):\n",
    "        self.name = name\n",
    "        self.score = 2\n",
    "        self.grade = 0\n",
    "        \n",
    "        \n",
    "        \n",
    "    def get_international_bonus(self):\n",
    "        \"\"\"Поулчает баллы при получение международной премии\"\"\"\n",
    "        self.score+=1\n",
    "     \n",
    "        \n",
    "    def grade_up(self):\n",
    "        \"\"\"Повышает уровень сотрудника\"\"\"\n",
    "        self.grade += 1\n",
    "    \n",
    "    \n",
    "    def check_promoution(self):\n",
    "\n",
    "            \n",
    "        # условие повышения сотрудника по баллам\n",
    "        if self.score % 7 == 0:\n",
    "            self.grade_up()\n",
    "        self.get_international_bonus()\n",
    "        if self.score % 7 == 0:\n",
    "            self.grade_up()\n",
    "        self.get_international_bonus()\n",
    "        \n",
    "        \n",
    "        # публикация результатов\n",
    "        return print(f'{self.name} имеет грэйд: {self.grade}, баллы на момент проверки {self.score}')\n",
    "        "
   ]
  },
  {
   "cell_type": "code",
   "execution_count": 328,
   "metadata": {},
   "outputs": [
    {
     "name": "stdout",
     "output_type": "stream",
     "text": [
      "Вася имеет грэйд: 2, баллы на момент проверки 16\n"
     ]
    }
   ],
   "source": [
    "# Определяем вводные\n",
    "#vasya = Designer('Вася', 0)\n",
    "\n",
    "\n",
    "# Команда по проверке необходимости повышения соттрудника при получении премии\n",
    "vasya.check_promoution()\n"
   ]
  },
  {
   "cell_type": "code",
   "execution_count": null,
   "metadata": {},
   "outputs": [],
   "source": []
  },
  {
   "cell_type": "code",
   "execution_count": null,
   "metadata": {},
   "outputs": [],
   "source": []
  },
  {
   "cell_type": "code",
   "execution_count": null,
   "metadata": {},
   "outputs": [],
   "source": []
  }
 ],
 "metadata": {
  "kernelspec": {
   "display_name": "Python 3",
   "language": "python",
   "name": "python3"
  },
  "language_info": {
   "codemirror_mode": {
    "name": "ipython",
    "version": 3
   },
   "file_extension": ".py",
   "mimetype": "text/x-python",
   "name": "python",
   "nbconvert_exporter": "python",
   "pygments_lexer": "ipython3",
   "version": "3.8.3"
  }
 },
 "nbformat": 4,
 "nbformat_minor": 4
}
